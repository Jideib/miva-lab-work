{
 "cells": [
  {
   "cell_type": "markdown",
   "id": "3ed3feaf",
   "metadata": {},
   "source": [
    "### Data Exploration Oluwaseyifunmi and Aminat\n",
    "\\- Open the Titanic passenger list (dataset) in Python.    \n",
    "\\- Show the first few passengers (rows) so everyone knows what’s inside.    \n",
    "\\- Check if any passenger info is missing (e.g., age, ticket price).    \n",
    "\\- Draw pictures (visualizations) to show how things like age or ticket class relate to survival."
   ]
  },
  {
   "cell_type": "code",
   "execution_count": 2,
   "id": "e5990882",
   "metadata": {},
   "outputs": [],
   "source": [
    "import numpy as np\n",
    "import pandas as pd\n",
    "import matplotlib as plt\n",
    "import seaborn as sns\n"
   ]
  },
  {
   "cell_type": "code",
   "execution_count": 3,
   "id": "af3d6d1b",
   "metadata": {},
   "outputs": [],
   "source": [
    "titanic=sns.load_dataset(\"titanic\")"
   ]
  },
  {
   "cell_type": "code",
   "execution_count": 4,
   "id": "970073a1",
   "metadata": {},
   "outputs": [
    {
     "name": "stdout",
     "output_type": "stream",
     "text": [
      "survived         0\n",
      "pclass           0\n",
      "sex              0\n",
      "age            177\n",
      "sibsp            0\n",
      "parch            0\n",
      "fare             0\n",
      "embarked         2\n",
      "class            0\n",
      "who              0\n",
      "adult_male       0\n",
      "deck           688\n",
      "embark_town      2\n",
      "alive            0\n",
      "alone            0\n",
      "dtype: int64\n"
     ]
    }
   ],
   "source": [
    "print(titanic.isnull().sum())"
   ]
  },
  {
   "cell_type": "code",
   "execution_count": null,
   "id": "ebba0305",
   "metadata": {},
   "outputs": [],
   "source": []
  },
  {
   "cell_type": "markdown",
   "id": "fde8c585",
   "metadata": {},
   "source": [
    "### Data Cleaning by Fidelix and Ibraheem    \n",
    "\\- Fix missing passenger ages by guessing (imputing) the average age.    \n",
    "\\- Fill in missing embarkation ports (e.g., use the most common port).    \n",
    "\\- Look for weird numbers (outliers) in ticket prices using boxplots and decide what to do.  "
   ]
  },
  {
   "cell_type": "code",
   "execution_count": 6,
   "id": "86870563",
   "metadata": {},
   "outputs": [],
   "source": [
    "titanic = titanic.assign(\n",
    "    Age=titanic['age'].fillna(titanic['age'].median()),\n",
    "    Embarked=titanic['embarked'].fillna(titanic['embarked'].mode()[0])\n",
    ")"
   ]
  },
  {
   "cell_type": "code",
   "execution_count": 11,
   "id": "480d532a",
   "metadata": {},
   "outputs": [],
   "source": [
    "# Outlier detection + removal (chained assignment)\n",
    "fare_q3 = titanic['fare'].quantile(0.75)\n",
    "fare_iqr = fare_q3 - titanic['fare'].quantile(0.25)\n",
    "fare_cap = fare_q3 + 1.5 * fare_iqr  # Tukey's method\n"
   ]
  },
  {
   "cell_type": "code",
   "execution_count": 19,
   "id": "ba172176-027b-4eba-b1d5-b35dd14a92fb",
   "metadata": {},
   "outputs": [],
   "source": [
    "titanic = titanic[titanic['fare'] <= fare_cap]\n"
   ]
  },
  {
   "cell_type": "code",
   "execution_count": 17,
   "id": "1b9a87dd-b510-43ba-854d-ac24393b7058",
   "metadata": {},
   "outputs": [
    {
     "data": {
      "text/plain": [
       "[Text(0.5, 1.0, 'Fare Distribution After\\xa0Capping')]"
      ]
     },
     "execution_count": 17,
     "metadata": {},
     "output_type": "execute_result"
    },
    {
     "data": {
      "image/png": "[encoded data removed]",
      "text/plain": [
       "<Figure size 640x480 with 1 Axes>"
      ]
     },
     "metadata": {},
     "output_type": "display_data"
    }
   ],
   "source": [
    "sns.boxplot(x=titanic['fare']).set(title='Fare Distribution After Capping')\n"
   ]
  },
  {
   "cell_type": "markdown",
   "id": "840c1e29",
   "metadata": {},
   "source": [
    "### Feature Engineering by Kaothara and Yetunde\n",
    "\\- Create a Family Size feature by adding siblings (SibSp) and parents (Parch).    \n",
    "\\- Group ages into buckets like \"kids,\" \"teens,\" \"adults,\" and \"seniors.\"    \n",
    "\\- Group ticket prices into \"cheap,\" \"medium,\" and \"expensive.\"  "
   ]
  },
  {
   "cell_type": "code",
   "execution_count": null,
   "id": "09bd4216",
   "metadata": {},
   "outputs": [],
   "source": []
  },
  {
   "cell_type": "code",
   "execution_count": null,
   "id": "3df8a7a7",
   "metadata": {},
   "outputs": [],
   "source": []
  },
  {
   "cell_type": "markdown",
   "id": "38d31339",
   "metadata": {},
   "source": [
    "### Data Transformation by Toluwalope and Ibraheem\n",
    "\\- Turn words (categories) like \"male/female\" or \"embarkation port\" into numbers (encoding).    \n",
    "\\- Scale numbers like age, fare, and family size so they’re fair for the model.  "
   ]
  },
  {
   "cell_type": "code",
   "execution_count": null,
   "id": "940b8904",
   "metadata": {},
   "outputs": [],
   "source": []
  },
  {
   "cell_type": "code",
   "execution_count": null,
   "id": "ea54109c",
   "metadata": {},
   "outputs": [],
   "source": []
  },
  {
   "cell_type": "markdown",
   "id": "6f4e5400",
   "metadata": {},
   "source": [
    "### Model training by All the team members\n",
    "\\- Split passengers into a training group (70%) and a test group (30%).    \n",
    "\\- Teach the computer (train a model) to guess survival using Logistic Regression.    \n",
    "\\- Check if the computer is good at guessing (accuracy, confusion matrix).  "
   ]
  },
  {
   "cell_type": "code",
   "execution_count": null,
   "id": "0d345471",
   "metadata": {},
   "outputs": [],
   "source": []
  },
  {
   "cell_type": "code",
   "execution_count": null,
   "id": "8c3d561a",
   "metadata": {},
   "outputs": [],
   "source": []
  },
  {
   "cell_type": "code",
   "execution_count": null,
   "id": "7a224a9f",
   "metadata": {},
   "outputs": [],
   "source": []
  },
  {
   "cell_type": "markdown",
   "id": "f68dd2bb",
   "metadata": {},
   "source": [
    "### Short Report"
   ]
  }
 ],
 "metadata": {
  "kernelspec": {
   "display_name": "Python 3 (ipykernel)",
   "language": "python",
   "name": "python3"
  },
  "language_info": {
   "codemirror_mode": {
    "name": "ipython",
    "version": 3
   },
   "file_extension": ".py",
   "mimetype": "text/x-python",
   "name": "python",
   "nbconvert_exporter": "python",
   "pygments_lexer": "ipython3",
   "version": "3.12.4"
  }
 },
 "nbformat": 4,
 "nbformat_minor": 5
}
