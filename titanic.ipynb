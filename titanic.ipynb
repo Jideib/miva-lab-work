{
 "cells": [
  {
   "cell_type": "markdown",
   "id": "3ed3feaf",
   "metadata": {},
   "source": [
    "### Data Exploration Oluwaseyifunmi and Aminat\n",
    "\\- Open the Titanic passenger list (dataset) in Python.    \n",
    "\\- Show the first few passengers (rows) so everyone knows what’s inside.    \n",
    "\\- Check if any passenger info is missing (e.g., age, ticket price).    \n",
    "\\- Draw pictures (visualizations) to show how things like age or ticket class relate to survival."
   ]
  },
  {
   "cell_type": "code",
   "execution_count": 1,
   "id": "e5990882",
   "metadata": {},
   "outputs": [],
   "source": [
    "import numpy as np\n",
    "import pandas as pd\n",
    "import matplotlib as plt\n",
    "import seaborn as sns\n"
   ]
  },
  {
   "cell_type": "code",
   "execution_count": null,
   "id": "af3d6d1b",
   "metadata": {},
   "outputs": [],
   "source": []
  },
  {
   "cell_type": "code",
   "execution_count": null,
   "id": "970073a1",
   "metadata": {},
   "outputs": [],
   "source": []
  },
  {
   "cell_type": "code",
   "execution_count": null,
   "id": "ebba0305",
   "metadata": {},
   "outputs": [],
   "source": []
  },
  {
   "cell_type": "markdown",
   "id": "fde8c585",
   "metadata": {},
   "source": [
    "### Data Cleaning by Fidelix and Ibraheem    \n",
    "\\- Fix missing passenger ages by guessing (imputing) the average age.    \n",
    "\\- Fill in missing embarkation ports (e.g., use the most common port).    \n",
    "\\- Look for weird numbers (outliers) in ticket prices using boxplots and decide what to do.  "
   ]
  },
  {
   "cell_type": "code",
   "execution_count": null,
   "id": "86870563",
   "metadata": {},
   "outputs": [],
   "source": []
  },
  {
   "cell_type": "code",
   "execution_count": null,
   "id": "f4ec49fe",
   "metadata": {},
   "outputs": [],
   "source": []
  },
  {
   "cell_type": "code",
   "execution_count": null,
   "id": "480d532a",
   "metadata": {},
   "outputs": [],
   "source": []
  },
  {
   "cell_type": "markdown",
   "id": "840c1e29",
   "metadata": {},
   "source": [
    "### Feature Engineering by Kaothara and Yetunde\n",
    "\\- Create a Family Size feature by adding siblings (SibSp) and parents (Parch).    \n",
    "\\- Group ages into buckets like \"kids,\" \"teens,\" \"adults,\" and \"seniors.\"    \n",
    "\\- Group ticket prices into \"cheap,\" \"medium,\" and \"expensive.\"  "
   ]
  },
  {
   "cell_type": "code",
   "execution_count": null,
   "id": "09bd4216",
   "metadata": {},
   "outputs": [],
   "source": []
  },
  {
   "cell_type": "code",
   "execution_count": null,
   "id": "3df8a7a7",
   "metadata": {},
   "outputs": [],
   "source": []
  },
  {
   "cell_type": "markdown",
   "id": "38d31339",
   "metadata": {},
   "source": [
    "### Data Transformation by Toluwalope and Ibraheem\n",
    "\\- Turn words (categories) like \"male/female\" or \"embarkation port\" into numbers (encoding).    \n",
    "\\- Scale numbers like age, fare, and family size so they’re fair for the model.  "
   ]
  },
  {
   "cell_type": "code",
   "execution_count": null,
   "id": "940b8904",
   "metadata": {},
   "outputs": [],
   "source": []
  },
  {
   "cell_type": "code",
   "execution_count": null,
   "id": "ea54109c",
   "metadata": {},
   "outputs": [],
   "source": []
  },
  {
   "cell_type": "markdown",
   "id": "6f4e5400",
   "metadata": {},
   "source": [
    "### Model training by All the team members\n",
    "\\- Split passengers into a training group (70%) and a test group (30%).    \n",
    "\\- Teach the computer (train a model) to guess survival using Logistic Regression.    \n",
    "\\- Check if the computer is good at guessing (accuracy, confusion matrix).  "
   ]
  },
  {
   "cell_type": "code",
   "execution_count": null,
   "id": "0d345471",
   "metadata": {},
   "outputs": [],
   "source": []
  },
  {
   "cell_type": "code",
   "execution_count": null,
   "id": "8c3d561a",
   "metadata": {},
   "outputs": [],
   "source": []
  },
  {
   "cell_type": "code",
   "execution_count": null,
   "id": "7a224a9f",
   "metadata": {},
   "outputs": [],
   "source": []
  },
  {
   "cell_type": "markdown",
   "id": "f68dd2bb",
   "metadata": {},
   "source": [
    "### Short Report"
   ]
  }
 ],
 "metadata": {
  "kernelspec": {
   "display_name": "Python 3",
   "language": "python",
   "name": "python3"
  },
  "language_info": {
   "codemirror_mode": {
    "name": "ipython",
    "version": 3
   },
   "file_extension": ".py",
   "mimetype": "text/x-python",
   "name": "python",
   "nbconvert_exporter": "python",
   "pygments_lexer": "ipython3",
   "version": "3.13.5"
  }
 },
 "nbformat": 4,
 "nbformat_minor": 5
}
